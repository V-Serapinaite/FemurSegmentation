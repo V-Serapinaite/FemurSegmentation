{
 "cells": [
  {
   "cell_type": "markdown",
   "metadata": {},
   "source": [
    "## Rotation and transposition invariant femur bone instance segmentation in CT scan\n",
    "\n",
    "### Algorithm workflow (Python 3.8.10)\n",
    "1. Preprocess and load .dcm images\n",
    "2. Process images. Filter out all tissues except bones using HU scale (pixels_from=100, pixels_to=2000). HU scale highly depends on CT scanner but in most sources soft tissues have HU values below 100.\n",
    "3. Using skimage.measure.label function extract largest skeletal structure\n",
    "4. Filter out less dense bones and only keep bones above HU 1000. Femur bones are largest most dense bones in specified region. Pelvic bone is composed of various bone densities, therefore applying HU filter of 1000 results in smaller components of pelvic bones.\n",
    "5. Skimage.measure.label is used to find 2 largest most dense structures - femur bones.\n",
    "6. Padded pelvic bone and femur bone mask (created from 4. step structures) is used on processed images. Largest structure (spine and tail bones) are extracted using skimage.measure.label function.\n",
    "7. Spine and tail bone orientation is used to determine which femur bone is left and right.\n",
    "8. Left and right femur bones are saved in separate 3D files.\n"
   ]
  },
  {
   "cell_type": "markdown",
   "metadata": {},
   "source": [
    "#### Function initialization"
   ]
  },
  {
   "cell_type": "code",
   "execution_count": 19,
   "metadata": {},
   "outputs": [],
   "source": [
    "from pathlib import Path\n",
    "\n",
    "import napari\n",
    "import nrrd\n",
    "import numpy as np\n",
    "import pydicom as dicom\n",
    "from scipy import ndimage\n",
    "\n",
    "\n",
    "def display_3d_image(img_arr, plot_name=None, labels=None, labels_name=None):\n",
    "    \"\"\"Displays 3D image using Napari, displays labels if provided\"\"\"\n",
    "    viewer = napari.view_image(img_arr, name=plot_name)\n",
    "    if labels is not None:\n",
    "        viewer.add_labels(labels, name=labels_name)\n",
    "    napari.run()\n",
    "\n",
    "\n",
    "def transform_to_hu(image, slope, intercept):\n",
    "    \"\"\"Transforms image to HU scale using .dcm metadata slope and intercept\"\"\"\n",
    "    if slope != 1:\n",
    "        hu_image = image * slope\n",
    "    else:\n",
    "        hu_image = image\n",
    "    if intercept:\n",
    "        hu_image += intercept\n",
    "    return hu_image\n",
    "\n",
    "\n",
    "def resample_image(image, resize_factor):\n",
    "    \"\"\"Resamples image using scipy interpolation zoom\"\"\"\n",
    "    return ndimage.zoom(np.expand_dims(image, axis=2), resize_factor)\n",
    "\n",
    "\n",
    "def get_important_metadata(image_list):\n",
    "    \"\"\"Extracts important metadata from loaded .dcm image list\"\"\"\n",
    "    intercepts, slopes = zip(\n",
    "        *list(map(lambda x: (int(x.RescaleIntercept), int(x.RescaleSlope)), image_list))\n",
    "    )\n",
    "    image_spacing = list(\n",
    "        map(\n",
    "            lambda x: (\n",
    "                float(x.PixelSpacing[0]),\n",
    "                float(x.PixelSpacing[1]),\n",
    "                float(x.SliceThickness),\n",
    "            ),\n",
    "            image_list,\n",
    "        )\n",
    "    )\n",
    "    image_orientation = list(map(lambda x: x.ImageOrientationPatient, image_list))\n",
    "    return intercepts, slopes, image_spacing, image_orientation\n",
    "\n",
    "\n",
    "def load_images(series_path, use_resample=False):\n",
    "    \"\"\"Loads and performs initial processing of images\n",
    "\n",
    "    All .dcm images are loaded from specified path, important metadata and pixels are\n",
    "    extracted. Images are converted to HU scale using .dcm metadata. This is important\n",
    "    step since other processing step relies on HU scale for filtering out soft tissues,\n",
    "    organs or metal constructions. Resampling is applied if specified.\n",
    "\n",
    "    Args:\n",
    "        series_path (Path): Loads all .dcm files from specified location.\n",
    "        use_resample (bool, optional): Flag whether to use sampling. Defaults to False.\n",
    "            Sampling is turned off because it does not make sense since we are working \n",
    "            only on 1 scan. \n",
    "\n",
    "    Returns:\n",
    "        _type_: _description_\n",
    "    \"\"\"\n",
    "    images = list(series_path.glob(\"*.dcm\"))\n",
    "    image_list = list(map(dicom.dcmread, images))\n",
    "    intercepts, slopes, image_spacing, image_orientation = get_important_metadata(\n",
    "        image_list\n",
    "    )\n",
    "\n",
    "    image_pixel_arr = np.array(list(map(lambda x: x.pixel_array, image_list)))\n",
    "\n",
    "    # transform pixels to HU scale\n",
    "    image_pixel_arr = np.array(\n",
    "        list(map(transform_to_hu, image_pixel_arr, slopes, intercepts))\n",
    "    )\n",
    "\n",
    "    if use_resample:\n",
    "        img_shape = image_pixel_arr[0].shape\n",
    "        image_shape = np.array([img_shape[0], img_shape[1], 1])\n",
    "        new_shapes = list(\n",
    "            map(lambda x: np.round(image_shape * np.array(x)), image_spacing)\n",
    "        )\n",
    "        resize_factors = new_shapes / image_shape\n",
    "        # resample to [1, 1, 1]\n",
    "        final_images = np.array(\n",
    "            list(map(resample_image, image_pixel_arr, resize_factors))\n",
    "        )\n",
    "    else:\n",
    "        final_images = image_pixel_arr\n",
    "    return final_images.squeeze()\n",
    "\n",
    "\n",
    "def save_left_and_right_femur(processed_image_arr, right_femur_mask, left_femur_mask):\n",
    "    \"\"\"Saves right and left femurs to separate 3D files\"\"\"\n",
    "    final_mask = processed_image_arr.copy()\n",
    "    final_mask = np.array(final_mask != 0, dtype=int)\n",
    "    right_femur_labeled_ind = (right_femur_mask) & (final_mask)\n",
    "    left_femur_labeled_ind = (left_femur_mask) & (final_mask)\n",
    "    nrrd.write(\"right_femur.nrrd\", right_femur_labeled_ind)\n",
    "    nrrd.write(\"left_femur.nrrd\", left_femur_labeled_ind)\n"
   ]
  },
  {
   "cell_type": "code",
   "execution_count": 20,
   "metadata": {},
   "outputs": [],
   "source": [
    "from collections import Counter\n",
    "\n",
    "import scipy\n",
    "from scipy.ndimage import binary_fill_holes, binary_dilation\n",
    "from skimage import filters, measure, morphology\n",
    "from skimage.morphology import binary_erosion, disk\n",
    "\n",
    "\n",
    "def get_image_filter_mask(image_arr, pixels_from, pixels_to):\n",
    "    \"\"\"Returns index values where image pixels are between `pixels_from` and `pixels_to`\"\"\"\n",
    "    shape = image_arr.shape\n",
    "    ind1 = image_arr >= pixels_from if pixels_from else np.ones(shape, dtype=bool)\n",
    "    ind2 = image_arr <= pixels_to if pixels_to else np.ones(shape, dtype=bool)\n",
    "    ind = (ind1) & (ind2)\n",
    "    return ind\n",
    "\n",
    "\n",
    "def get_labeled_components(mask, keep_n_biggest_objects=1):\n",
    "    \"\"\"Uses skimage measure module to find all structures in 3D image and returns specified\n",
    "        number of largest objects.\n",
    "\n",
    "    Args:\n",
    "        mask (np.array): boolean or integer 3D image mask.\n",
    "        keep_n_biggest_objects (int, optional): Saves specified number of biggest objects.\n",
    "            If set to 0, returns all objects. Defaults to 1.\n",
    "\n",
    "    Returns:\n",
    "        All labels and list of biggest object labels\n",
    "\n",
    "    \"\"\"\n",
    "    # 0 - keep all,\n",
    "    labels = measure.label(mask)\n",
    "    counter_dict = Counter(labels.flatten())\n",
    "    objects = counter_dict.most_common()\n",
    "    keep_objects = (\n",
    "        objects[1 : keep_n_biggest_objects + 1] if keep_n_biggest_objects else objects\n",
    "    )\n",
    "    return labels, keep_objects\n",
    "\n",
    "\n",
    "def perform_erosion(image_arr, **kwargs):\n",
    "    \"\"\"Performs erosion on image\"\"\"\n",
    "    mask = image_arr != 0\n",
    "    binary_img = binary_erosion(mask, **kwargs)\n",
    "    image_arr[~binary_img] = 0\n",
    "    return image_arr\n",
    "\n",
    "\n",
    "def remove_small_objects_and_holes(\n",
    "    image_arr, remove_holes=False, threshold_type=\"li\", min_size=300\n",
    "):\n",
    "    \"\"\"Removes small objects and holes from image\"\"\"\n",
    "    find_threshold = (\n",
    "        filters.threshold_li if threshold_type == \"li\" else filters.threshold_otsu\n",
    "    )\n",
    "    tgray = image_arr > find_threshold(image_arr)\n",
    "    keep_mask = morphology.remove_small_objects(tgray, min_size=min_size)\n",
    "    if remove_holes:\n",
    "        keep_mask = morphology.remove_small_holes(keep_mask)\n",
    "    image_arr[~keep_mask] = 0\n",
    "    return image_arr, keep_mask\n",
    "\n",
    "\n",
    "def keep_labeled_components(image_arr, keep_structures, labels):\n",
    "    \"\"\"Filters out all other structures in image except specified structures\"\"\"\n",
    "    image_arr_copy = image_arr.copy()\n",
    "    keep_objects_dict = dict(keep_structures)\n",
    "    ind = np.zeros(image_arr_copy.shape)\n",
    "    for i in keep_objects_dict.keys():\n",
    "        ind = (ind != 0) | (labels == i)\n",
    "    image_arr_copy[~ind] = 0\n",
    "    return image_arr_copy\n",
    "\n",
    "\n",
    "def image_processing(\n",
    "    image_pixel_arr, pixels_from=100, pixels_to=2000, remove_small_objects_size=300\n",
    "):\n",
    "    \"\"\"Processes loaded images by filtering out all other structures except bones.\n",
    "\n",
    "    Uses pixel filtering, erosion, removal of small objects and skimage measure \n",
    "    label function. Label function is used to keep biggest bone structure in image\n",
    "    while filtering out CT scan screen, metals rods and etc.\n",
    "\n",
    "    Args:\n",
    "        image_pixel_arr (np.array): Image array.\n",
    "        pixels_from (int, optional): Pixels to keep in image `from` limit. Defaults to 100.\n",
    "        pixels_to (int, optional): Pixels to keep in image `to` limit. Defaults to 2000.\n",
    "        remove_small_objects_size (int, optional): Pixel size of objects which are removed.\n",
    "            Defaults to 300.\n",
    "\n",
    "    Returns:\n",
    "        Numpy array Image Bone structure\n",
    "\n",
    "    \"\"\"\n",
    "    # removes larger part of rods but leaves artifacts\n",
    "    image_pixel_arr_copy = image_pixel_arr.copy()\n",
    "\n",
    "    # removing soft tissues and other noise\n",
    "    ind = get_image_filter_mask(image_pixel_arr, pixels_from, pixels_to)\n",
    "    image_pixel_arr_copy[~ind] = 0\n",
    "\n",
    "    # decreasing size of artifacts\n",
    "    image_pixel_arr_copy = perform_erosion(image_pixel_arr_copy)\n",
    "\n",
    "    # removing small objects\n",
    "    image_pixel_arr_copy, keep_mask = remove_small_objects_and_holes(\n",
    "        image_pixel_arr_copy, min_size=remove_small_objects_size\n",
    "    )\n",
    "\n",
    "    # Filtering out noise by keeping only largest (bone) structure\n",
    "    labels, keep_objects = get_labeled_components(keep_mask, 1)\n",
    "    image_pixel_arr_copy = keep_labeled_components(\n",
    "        image_pixel_arr_copy, keep_objects, labels\n",
    "    )\n",
    "    return image_pixel_arr_copy, keep_mask\n",
    "\n",
    "\n",
    "def generate_3d_mask_rectangular(\n",
    "    mindim0, maxdim0, mindim1, maxdim1, mindim2, maxdim2, image_size, padding=0\n",
    "):\n",
    "    \"\"\"Generates 3D mask with a rectangle shape based on points\"\"\"\n",
    "    mask_3d = np.zeros(image_size, dtype=int)\n",
    "\n",
    "    if padding:\n",
    "        maxdim0 += padding\n",
    "        maxdim1 += padding\n",
    "        maxdim2 += padding\n",
    "        mindim0 = mindim0 - padding if mindim0 - padding > 0 else mindim0\n",
    "        mindim1 = mindim1 - padding if mindim1 - padding > 0 else mindim1\n",
    "        mindim2 = mindim2 - padding if mindim2 - padding > 0 else mindim2\n",
    "\n",
    "    mask_3d[mindim0:maxdim0, mindim1:maxdim1, mindim2:maxdim2] = 1\n",
    "    return mask_3d\n",
    "\n",
    "\n",
    "def get_dimensions_for_nd_mask(image_arr):\n",
    "    \"\"\"Calculates object points from image mask\"\"\"\n",
    "    # returns first, second, third dimension min/max values\n",
    "    r = np.argwhere(image_arr != 0)\n",
    "    min_points = r.min(axis=0)\n",
    "    max_points = r.max(axis=0)\n",
    "    return np.stack((min_points, max_points), axis=1)\n",
    "\n",
    "\n",
    "def change_axis_order_or_rotate(image_arr, rotate_angle=0, axis_order=[0, 1, 2]):\n",
    "    \"\"\"Changes 3D image axis order or rotation angle\n",
    "        Used for testing the algorithm\"\"\"\n",
    "    if axis_order != [0, 1, 2]:\n",
    "        image_arr = image_arr.transpose(axis_order)\n",
    "    if rotate_angle != 0 or rotate_angle % 360 != 0:\n",
    "        image_arr = scipy.ndimage.rotate(\n",
    "            image_arr, angle=rotate_angle, reshape=False, axes=(1, 2)\n",
    "        )\n",
    "    return image_arr\n"
   ]
  },
  {
   "cell_type": "markdown",
   "metadata": {},
   "source": [
    "#### Separating structures and keeping only bone structure"
   ]
  },
  {
   "cell_type": "code",
   "execution_count": 21,
   "metadata": {},
   "outputs": [],
   "source": [
    "series_path = Path('klubo_atvejis')\n",
    "\n",
    "image_pixel_arr = load_images(series_path)\n"
   ]
  },
  {
   "cell_type": "code",
   "execution_count": 22,
   "metadata": {},
   "outputs": [],
   "source": [
    "processed_image_arr, keep_mask = image_processing(image_pixel_arr)"
   ]
  },
  {
   "cell_type": "code",
   "execution_count": 23,
   "metadata": {},
   "outputs": [],
   "source": [
    "display_3d_image(processed_image_arr)"
   ]
  },
  {
   "cell_type": "markdown",
   "metadata": {},
   "source": [
    "#### Extracting and separating femur, pelvic bones, creating 3D masks"
   ]
  },
  {
   "cell_type": "code",
   "execution_count": 24,
   "metadata": {},
   "outputs": [],
   "source": [
    "image_pixel_arr_copy = processed_image_arr.copy()\n",
    "\n",
    "# Keeping structures with HU > 1000\n",
    "keep_ind = get_image_filter_mask(image_pixel_arr_copy, 1000, None)\n",
    "image_pixel_arr_copy[~keep_ind] = 0\n",
    "\n",
    "# Performing erosion and removal of small objects and holes\n",
    "image_pixel_arr_copy = perform_erosion(image_pixel_arr_copy)\n",
    "image_pixel_arr_copy, mask = remove_small_objects_and_holes(\n",
    "    image_pixel_arr_copy, remove_holes=True, threshold_type=\"other\", min_size=400\n",
    ")\n",
    "\n",
    "# Extracting components\n",
    "labels, keep_objects = get_labeled_components(mask, keep_n_biggest_objects=0)\n"
   ]
  },
  {
   "cell_type": "code",
   "execution_count": 25,
   "metadata": {},
   "outputs": [],
   "source": [
    "# Femur bones are largest from high density bones\n",
    "femur_bones_combined = keep_labeled_components(\n",
    "    image_pixel_arr_copy, keep_objects[1:3], labels\n",
    ")\n",
    "\n",
    "# Extracting separate structures of femur bones and pelvic bones\n",
    "femur_bone_one = keep_labeled_components(image_pixel_arr_copy, keep_objects[1:2], labels)\n",
    "femur_bone_two = keep_labeled_components(image_pixel_arr_copy, keep_objects[2:3], labels)\n",
    "pelvic_bones = keep_labeled_components(image_pixel_arr_copy, keep_objects[3:], labels)\n"
   ]
  },
  {
   "cell_type": "code",
   "execution_count": 26,
   "metadata": {},
   "outputs": [],
   "source": [
    "# Creting pelvic 3D mask and padding it\n",
    "series_shape = pelvic_bones.shape\n",
    "pelvic_bones_2d_mask = pelvic_bones.mean(axis=0) != 0\n",
    "pelvic_3d_mask = np.tile(pelvic_bones_2d_mask, (series_shape[0], 1, 1))\n",
    "filled_holes = binary_fill_holes(pelvic_3d_mask[0, :, :])\n",
    "radius = 20\n",
    "filled_holes = binary_dilation(filled_holes, disk(radius, dtype=bool))\n",
    "pelvis_3d_mask_dilated = np.tile(filled_holes, (series_shape[0], 1, 1))\n"
   ]
  },
  {
   "cell_type": "code",
   "execution_count": 27,
   "metadata": {},
   "outputs": [],
   "source": [
    "# creating femur bones combined rectangle mask \n",
    "(mindim0, maxdim0), (mindim1, maxdim1), (mindim2, maxdim2) = get_dimensions_for_nd_mask(\n",
    "    femur_bones_combined\n",
    ")\n",
    "generated_femurs_combined_mask = generate_3d_mask_rectangular(\n",
    "    mindim0, maxdim0, mindim1, maxdim1, mindim2, maxdim2, series_shape, padding=20\n",
    ")\n",
    "\n",
    "# creating femur one rectangle bone mask\n",
    "(\n",
    "    (mindim0_f1, maxdim0_f1),\n",
    "    (mindim1_f1, maxdim1_f1),\n",
    "    (mindim2_f1, maxdim2_f1),\n",
    ") = get_dimensions_for_nd_mask(femur_bone_one)\n",
    "\n",
    "generated_femur_one_mask = generate_3d_mask_rectangular(\n",
    "    mindim0_f1,\n",
    "    maxdim0_f1,\n",
    "    mindim1_f1,\n",
    "    maxdim1_f1,\n",
    "    mindim2_f1,\n",
    "    maxdim2_f1,\n",
    "    series_shape,\n",
    "    padding=10,\n",
    ")\n",
    "\n",
    "# creating femur two rectangle bone mask\n",
    "(\n",
    "    (mindim0_f2, maxdim0_f2),\n",
    "    (mindim1_f2, maxdim1_f2),\n",
    "    (mindim2_f2, maxdim2_f2),\n",
    ") = get_dimensions_for_nd_mask(femur_bone_two)\n",
    "\n",
    "generated_femur_two_mask = generate_3d_mask_rectangular(\n",
    "    mindim0_f2,\n",
    "    maxdim0_f2,\n",
    "    mindim1_f2,\n",
    "    maxdim1_f2,\n",
    "    mindim2_f2,\n",
    "    maxdim2_f2,\n",
    "    series_shape,\n",
    "    padding=10,\n",
    ")\n"
   ]
  },
  {
   "cell_type": "markdown",
   "metadata": {},
   "source": [
    "#### Finding spine and tail bones from processed images. Pelvic and femur bones were removed from processed images. Spine and tail bones are found using skimage.measure.label since it is the biggest remaining structure"
   ]
  },
  {
   "cell_type": "code",
   "execution_count": 28,
   "metadata": {},
   "outputs": [],
   "source": [
    "pelvis_ind_and_femur_mask = (pelvis_3d_mask_dilated != 0) | (\n",
    "    generated_femurs_combined_mask\n",
    ")\n",
    "filtered_out_pelvis_and_femur = processed_image_arr.copy()\n",
    "filtered_out_pelvis_and_femur[pelvis_ind_and_femur_mask != 0] = 0\n"
   ]
  },
  {
   "cell_type": "code",
   "execution_count": 29,
   "metadata": {},
   "outputs": [],
   "source": [
    "# Finding largest structure (spine)\n",
    "labels, keep_objects = get_labeled_components(\n",
    "    filtered_out_pelvis_and_femur != 0, keep_n_biggest_objects=1\n",
    ")\n",
    "\n",
    "spine_bone = keep_labeled_components(filtered_out_pelvis_and_femur, keep_objects, labels)\n"
   ]
  },
  {
   "cell_type": "code",
   "execution_count": 30,
   "metadata": {},
   "outputs": [],
   "source": [
    "# Generating spine rectangle mask\n",
    "(\n",
    "    (mindim0_s, maxdim0_s),\n",
    "    (mindim1_s, maxdim1_s),\n",
    "    (mindim2_s, maxdim2_s),\n",
    ") = get_dimensions_for_nd_mask(spine_bone)\n",
    "\n",
    "generated_spine_mask = generate_3d_mask_rectangular(\n",
    "    mindim0_s, maxdim0_s, mindim1_s, maxdim1_s, mindim2_s, maxdim2_s, series_shape\n",
    ")\n"
   ]
  },
  {
   "cell_type": "markdown",
   "metadata": {},
   "source": [
    "#### Finding femur positions relative to spine. Separating femurs to left and right"
   ]
  },
  {
   "cell_type": "code",
   "execution_count": 31,
   "metadata": {},
   "outputs": [
    {
     "data": {
      "text/plain": [
       "(array([ 49. , 277.5, 427. ]),\n",
       " array([ 40.5, 310.5, 135. ]),\n",
       " array([216.5, 317. , 282. ]))"
      ]
     },
     "execution_count": 31,
     "metadata": {},
     "output_type": "execute_result"
    }
   ],
   "source": [
    "# femur 1 mid point\n",
    "mid_dim0_f1_p = (mindim0_f1 + maxdim0_f1) / 2\n",
    "mid_dim1_f1_p = (mindim1_f1 + maxdim1_f1) / 2\n",
    "mid_dim2_f1_p = (mindim2_f1 + maxdim2_f1) / 2\n",
    "femur_1_mid_point = np.array([mid_dim0_f1_p, mid_dim1_f1_p, mid_dim2_f1_p])\n",
    "\n",
    "# femur 2 mid point\n",
    "mid_dim0_f2_p = (mindim0_f2 + maxdim0_f2) / 2\n",
    "mid_dim1_f2_p = (mindim1_f2 + maxdim1_f2) / 2\n",
    "mid_dim2_f2_p = (mindim2_f2 + maxdim2_f2) / 2\n",
    "femur_2_mid_point = np.array([mid_dim0_f2_p, mid_dim1_f2_p, mid_dim2_f2_p])\n",
    "\n",
    "# spine mid point\n",
    "mindim0_s_p = (mindim0_s + maxdim0_s) / 2\n",
    "mindim1_s_p = (mindim1_s + maxdim1_s) / 2\n",
    "mindim2_s_p = (mindim2_s + maxdim2_s) / 2\n",
    "spine_mid_point = np.array([mindim0_s_p, mindim1_s_p, mindim2_s_p])\n",
    "femur_1_mid_point, femur_2_mid_point, spine_mid_point"
   ]
  },
  {
   "cell_type": "code",
   "execution_count": 32,
   "metadata": {},
   "outputs": [],
   "source": [
    "# Calculate vectors from C to A and C to B\n",
    "vector_CA = femur_1_mid_point - spine_mid_point\n",
    "vector_CB = femur_2_mid_point - spine_mid_point\n",
    "\n",
    "cross_product_z = np.cross(vector_CA, vector_CB)"
   ]
  },
  {
   "cell_type": "code",
   "execution_count": 33,
   "metadata": {},
   "outputs": [],
   "source": [
    "# Since .DCM images have the same number of columns and rows, we can know where is depth dimensions: https://dicom.nema.org/medical/Dicom/2018d/output/chtml/part03/sect_C.7.6.3.html\n",
    "# Finding which femur is on the right side of spine and tail bone\n",
    "depth_dim_location = (\n",
    "    0 if len(image_pixel_arr) == generated_spine_mask.shape[0] else -1\n",
    ")\n",
    "if depth_dim_location != 0:\n",
    "    right_femur_mask, left_femur_mask = (\n",
    "        (generated_femur_two_mask, generated_femur_one_mask)\n",
    "        if cross_product_z[0] < 0\n",
    "        else (generated_femur_one_mask, generated_femur_two_mask)\n",
    "    )\n",
    "else:\n",
    "    right_femur_mask, left_femur_mask = (\n",
    "        (generated_femur_two_mask, generated_femur_one_mask)\n",
    "        if cross_product_z[0] > 0\n",
    "        else (generated_femur_one_mask, generated_femur_two_mask)\n",
    "    )\n"
   ]
  },
  {
   "cell_type": "markdown",
   "metadata": {},
   "source": [
    "#### Saving results to separate 3D files"
   ]
  },
  {
   "cell_type": "code",
   "execution_count": 34,
   "metadata": {},
   "outputs": [],
   "source": [
    "save_left_and_right_femur(processed_image_arr, right_femur_mask, left_femur_mask)"
   ]
  },
  {
   "cell_type": "markdown",
   "metadata": {},
   "source": [
    "#### Displaying labeled femur bones on processed skeleton"
   ]
  },
  {
   "cell_type": "code",
   "execution_count": 35,
   "metadata": {},
   "outputs": [],
   "source": [
    "final_mask = processed_image_arr.copy()\n",
    "final_mask = np.array(final_mask != 0, dtype=int)\n",
    "right_femur_labeled_ind = (right_femur_mask) & (final_mask)\n",
    "left_femur_labeled_ind = (left_femur_mask) & (final_mask)\n",
    "left_femur_labeled_ind[left_femur_labeled_ind!=0] += 1"
   ]
  },
  {
   "cell_type": "code",
   "execution_count": 36,
   "metadata": {},
   "outputs": [
    {
     "data": {
      "text/plain": [
       "<Labels layer 'left' at 0x19f00e26b20>"
      ]
     },
     "execution_count": 36,
     "metadata": {},
     "output_type": "execute_result"
    }
   ],
   "source": [
    "viewer = napari.view_image(processed_image_arr)\n",
    "viewer.add_labels(right_femur_labeled_ind, name='right')\n",
    "viewer.add_labels(left_femur_labeled_ind, name='left')"
   ]
  },
  {
   "cell_type": "markdown",
   "metadata": {},
   "source": [
    "## Segmentation can be improved by multiple ways:\n",
    "1. Adding sphere mask on top of femur rectangle mask\n",
    "2. Filtering out pelvic bones (based on pelvic rectangle mask) which are above femur mask + some buffer zone. Then use measure.label to find 2 largest structures (femur bones) "
   ]
  }
 ],
 "metadata": {
  "kernelspec": {
   "display_name": "Python 3",
   "language": "python",
   "name": "python3"
  },
  "language_info": {
   "codemirror_mode": {
    "name": "ipython",
    "version": 3
   },
   "file_extension": ".py",
   "mimetype": "text/x-python",
   "name": "python",
   "nbconvert_exporter": "python",
   "pygments_lexer": "ipython3",
   "version": "3.8.10"
  },
  "orig_nbformat": 4
 },
 "nbformat": 4,
 "nbformat_minor": 2
}
